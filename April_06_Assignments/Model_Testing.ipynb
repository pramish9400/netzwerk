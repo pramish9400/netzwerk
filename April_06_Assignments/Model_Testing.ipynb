{
 "cells": [
  {
   "cell_type": "code",
   "execution_count": 1,
   "id": "21745951",
   "metadata": {},
   "outputs": [],
   "source": [
    "import numpy as np\n",
    "import pickle\n",
    "import pandas as pd"
   ]
  },
  {
   "cell_type": "code",
   "execution_count": 2,
   "id": "16087337",
   "metadata": {},
   "outputs": [],
   "source": [
    "bedrooms= 3\n",
    "bathrooms = 1.5\n",
    "sqft_living =1340\n",
    "sqft_lot=7912\n",
    "floors=1.5\n",
    "waterfront=0\n",
    "view=0\n",
    "condition=3\n",
    "sqft_above=1340\n",
    "sqft_basement=0\n",
    "yr_built=1955\n",
    "yr_renovated=2005"
   ]
  },
  {
   "cell_type": "code",
   "execution_count": 3,
   "id": "b7ea9699",
   "metadata": {},
   "outputs": [],
   "source": [
    "x = np.array([[bedrooms,bathrooms,sqft_living,sqft_lot,floors,waterfront,view,condition,sqft_above,sqft_basement,yr_built,yr_renovated]])"
   ]
  },
  {
   "cell_type": "code",
   "execution_count": 4,
   "id": "214aa978",
   "metadata": {},
   "outputs": [
    {
     "name": "stderr",
     "output_type": "stream",
     "text": [
      "C:\\Users\\Refresh\\anaconda3\\lib\\site-packages\\sklearn\\base.py:310: UserWarning: Trying to unpickle estimator LinearRegression from version 0.24.1 when using version 0.24.2. This might lead to breaking code or invalid results. Use at your own risk.\n",
      "  warnings.warn(\n"
     ]
    }
   ],
   "source": [
    "model = pickle.load(open('model.pkl', 'rb'))"
   ]
  },
  {
   "cell_type": "code",
   "execution_count": 5,
   "id": "47b05fe2",
   "metadata": {},
   "outputs": [],
   "source": [
    "y_prediction = model.predict(x)"
   ]
  },
  {
   "cell_type": "code",
   "execution_count": 6,
   "id": "8680d966",
   "metadata": {},
   "outputs": [
    {
     "data": {
      "text/plain": [
       "array([[361375.27500665]])"
      ]
     },
     "execution_count": 6,
     "metadata": {},
     "output_type": "execute_result"
    }
   ],
   "source": [
    "y_prediction"
   ]
  }
 ],
 "metadata": {
  "kernelspec": {
   "display_name": "Python 3 (ipykernel)",
   "language": "python",
   "name": "python3"
  },
  "language_info": {
   "codemirror_mode": {
    "name": "ipython",
    "version": 3
   },
   "file_extension": ".py",
   "mimetype": "text/x-python",
   "name": "python",
   "nbconvert_exporter": "python",
   "pygments_lexer": "ipython3",
   "version": "3.9.7"
  }
 },
 "nbformat": 4,
 "nbformat_minor": 5
}

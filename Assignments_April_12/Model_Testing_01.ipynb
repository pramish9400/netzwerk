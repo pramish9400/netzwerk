{
 "cells": [
  {
   "cell_type": "code",
   "execution_count": 1,
   "id": "c3d20a96",
   "metadata": {},
   "outputs": [],
   "source": [
    "import numpy as np\n",
    "import pickle\n",
    "import pandas as pd"
   ]
  },
  {
   "cell_type": "code",
   "execution_count": 2,
   "id": "5dabfe84",
   "metadata": {},
   "outputs": [],
   "source": [
    "# Lets put the values from the first row as follows:"
   ]
  },
  {
   "cell_type": "code",
   "execution_count": 3,
   "id": "ee5fea94",
   "metadata": {},
   "outputs": [],
   "source": [
    "Year = 2014\n",
    "Present_Price = 5.59\n",
    "Kms_Driven = 27000\n",
    "Transmission = 1\n",
    "Owner = 0\n",
    "Fuel_Type_cat= 2\n",
    "Car_Name_cat= 90\n",
    "Seller_Type_cat= 0\n"
   ]
  },
  {
   "cell_type": "code",
   "execution_count": 4,
   "id": "8b556242",
   "metadata": {},
   "outputs": [],
   "source": [
    "x = np.array([[Year, Present_Price, Kms_Driven, Transmission, Owner, Fuel_Type_cat, Car_Name_cat, Seller_Type_cat]])"
   ]
  },
  {
   "cell_type": "code",
   "execution_count": 5,
   "id": "ad5017de",
   "metadata": {},
   "outputs": [
    {
     "data": {
      "text/plain": [
       "(1, 8)"
      ]
     },
     "execution_count": 5,
     "metadata": {},
     "output_type": "execute_result"
    }
   ],
   "source": [
    "x.shape"
   ]
  },
  {
   "cell_type": "code",
   "execution_count": 6,
   "id": "4eac4714",
   "metadata": {},
   "outputs": [],
   "source": [
    "model = pickle.load(open('model.pkl', 'rb'))"
   ]
  },
  {
   "cell_type": "code",
   "execution_count": 7,
   "id": "09514e10",
   "metadata": {},
   "outputs": [],
   "source": [
    "y_prediction = model.predict(x)"
   ]
  },
  {
   "cell_type": "code",
   "execution_count": 8,
   "id": "ced27fef",
   "metadata": {},
   "outputs": [
    {
     "data": {
      "text/plain": [
       "array([[4.0113608]])"
      ]
     },
     "execution_count": 8,
     "metadata": {},
     "output_type": "execute_result"
    }
   ],
   "source": [
    "y_prediction"
   ]
  },
  {
   "cell_type": "markdown",
   "id": "b416e96d",
   "metadata": {},
   "source": [
    "## we can see that the ML model prediction is 4.01 lacs, compared to the actual value 3.35 lacs"
   ]
  }
 ],
 "metadata": {
  "kernelspec": {
   "display_name": "Python 3 (ipykernel)",
   "language": "python",
   "name": "python3"
  },
  "language_info": {
   "codemirror_mode": {
    "name": "ipython",
    "version": 3
   },
   "file_extension": ".py",
   "mimetype": "text/x-python",
   "name": "python",
   "nbconvert_exporter": "python",
   "pygments_lexer": "ipython3",
   "version": "3.9.7"
  }
 },
 "nbformat": 4,
 "nbformat_minor": 5
}

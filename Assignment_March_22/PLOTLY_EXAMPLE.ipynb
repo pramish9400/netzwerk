{
 "cells": [
  {
   "cell_type": "markdown",
   "id": "fcdd4d96",
   "metadata": {},
   "source": [
    "# SIMPLE PLOTS WITH PLOTLY"
   ]
  },
  {
   "cell_type": "code",
   "execution_count": null,
   "id": "a54252f2",
   "metadata": {},
   "outputs": [],
   "source": [
    "!pip install plotly"
   ]
  },
  {
   "cell_type": "code",
   "execution_count": null,
   "id": "26535825",
   "metadata": {},
   "outputs": [],
   "source": [
    "import numpy as np\n",
    "import pandas as pd\n",
    "import plotly\n",
    "import plotly.graph_objects as go\n",
    "import plotly.offline as py\n",
    "from plotly.offline import init_notebook_mode, iplot\n",
    "import plotly.graph_objs as go\n",
    "from plotly import tools\n",
    "init_notebook_mode(connected = True)"
   ]
  },
  {
   "cell_type": "code",
   "execution_count": null,
   "id": "273fa110",
   "metadata": {},
   "outputs": [],
   "source": [
    "# simple Pie chart"
   ]
  },
  {
   "cell_type": "code",
   "execution_count": null,
   "id": "f80dd8b2",
   "metadata": {},
   "outputs": [],
   "source": [
    "labels = [\"india\", \"america\", \"china\", \"pakistan\"]\n",
    "values = [500, 600, 400, 1000]\n",
    "fig = go.Figure(data =[go.Pie(labels = labels, values = values)])\n",
    "fig.show()"
   ]
  },
  {
   "cell_type": "code",
   "execution_count": null,
   "id": "75722071",
   "metadata": {},
   "outputs": [],
   "source": [
    "#Simple Bar chart"
   ]
  },
  {
   "cell_type": "code",
   "execution_count": null,
   "id": "657aef4b",
   "metadata": {},
   "outputs": [],
   "source": [
    "import plotly.express as px\n",
    "fig = px.bar(x = [\"India\", \"China\", \"Russia\", \"Japan\"], y = [150,230,340,450])\n",
    "fig.show()"
   ]
  },
  {
   "cell_type": "code",
   "execution_count": null,
   "id": "912dddc7",
   "metadata": {},
   "outputs": [],
   "source": [
    "# Simple scatter plot"
   ]
  },
  {
   "cell_type": "code",
   "execution_count": null,
   "id": "128b97af",
   "metadata": {},
   "outputs": [],
   "source": [
    "import plotly.express as px\n",
    "fig = px.scatter(x = [\"India\", \"China\", \"Russia\", \"Japan\"], y = [150,230,340,450])\n",
    "fig.show()"
   ]
  },
  {
   "cell_type": "code",
   "execution_count": null,
   "id": "d7d962fe",
   "metadata": {},
   "outputs": [],
   "source": [
    "import plotly.express as px\n",
    "fig = px.line(x = [\"India\", \"China\", \"Russia\", \"Japan\"], y = [150,230,340,450])\n",
    "fig.show()"
   ]
  },
  {
   "cell_type": "code",
   "execution_count": null,
   "id": "38835c23",
   "metadata": {},
   "outputs": [],
   "source": []
  }
 ],
 "metadata": {
  "kernelspec": {
   "display_name": "Python 3 (ipykernel)",
   "language": "python",
   "name": "python3"
  },
  "language_info": {
   "codemirror_mode": {
    "name": "ipython",
    "version": 3
   },
   "file_extension": ".py",
   "mimetype": "text/x-python",
   "name": "python",
   "nbconvert_exporter": "python",
   "pygments_lexer": "ipython3",
   "version": "3.9.7"
  }
 },
 "nbformat": 4,
 "nbformat_minor": 5
}
